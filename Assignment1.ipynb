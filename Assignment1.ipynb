{
 "cells": [
  {
   "cell_type": "markdown",
   "id": "fe49c202",
   "metadata": {},
   "source": [
    "# Multi-linear classifier"
   ]
  },
  {
   "cell_type": "markdown",
   "id": "3085c3f3",
   "metadata": {},
   "source": [
    "In this assignment we train and test a one layer network with multi-ple outputs to classify images from the CIFAR-10 dataset. We train the network using mini-batch gradient descent applied to a cost function that computes the cross-entropy loss of the classifier applied to the labelled training data and an L2 regularization term on the weight matrix."
   ]
  },
  {
   "cell_type": "code",
   "execution_count": 2,
   "id": "7f2120a2",
   "metadata": {},
   "outputs": [],
   "source": [
    "# import functions to load batch, softmax function, compute gradient, display image for each label\n",
    "# and transfer model to matlab\n",
    "import functions as functions\n",
    "\n",
    "import tensorflow.keras.utils as np_utils\n",
    "import numpy as np\n",
    "import matplotlib.pyplot as plt"
   ]
  },
  {
   "cell_type": "code",
   "execution_count": 3,
   "id": "7e817452",
   "metadata": {},
   "outputs": [],
   "source": [
    "# dir of data\n",
    "data_batch_1 = \"cifar-10-batches-py/data_batch_1\"\n",
    "# validation data\n",
    "data_batch_2 = \"cifar-10-batches-py/data_batch_2\""
   ]
  },
  {
   "cell_type": "markdown",
   "id": "96e68052",
   "metadata": {},
   "source": [
    "# Training the multi-linear classifier"
   ]
  },
  {
   "cell_type": "markdown",
   "id": "7a73119a",
   "metadata": {},
   "source": [
    "We start by extracting the data:"
   ]
  },
  {
   "cell_type": "code",
   "execution_count": 10,
   "id": "1691a4c2",
   "metadata": {},
   "outputs": [],
   "source": [
    "# Reads in the data from a CIFAR-10 batch file \n",
    "# Returns the image and label data in separate files.\n",
    "def LoadBatch(filename):\n",
    "    data_dict = functions.load_batch(filename)\n",
    "    data = data_dict[b'data']\n",
    "    \n",
    "    # extract the labels\n",
    "    labels = data_dict[b'labels']\n",
    "    \n",
    "    # convert to one-hot representation\n",
    "    onehot_labels = np_utils.to_categorical(labels)\n",
    "    \n",
    "    return data.T, onehot_labels.T, labels"
   ]
  },
  {
   "cell_type": "code",
   "execution_count": 11,
   "id": "74776ba1",
   "metadata": {},
   "outputs": [],
   "source": [
    "# data is (data_dimension, data_count)\n",
    "# onehot_labels is (labels_count, data_count)\n",
    "data, onehot_labels, labels = LoadBatch(data_batch_1)\n",
    "\n",
    "# we do the same for the validation set\n",
    "X_validation, Y_validation, labels_validation = LoadBatch(data_batch_2)\n",
    "\n",
    "data_dimension = len(data[:,0])\n",
    "labels_count = len(onehot_labels[:,0])"
   ]
  },
  {
   "cell_type": "markdown",
   "id": "3d3c31ae",
   "metadata": {},
   "source": [
    "Now we preprocess the raw data by normalizing it (we assume the noise is Gaussian and that the data is normally distributed):"
   ]
  },
  {
   "cell_type": "code",
   "execution_count": 12,
   "id": "d62d0ef8",
   "metadata": {},
   "outputs": [],
   "source": [
    "# data is (data_dimension, data_count)\n",
    "# compute mean and std for each dimension\n",
    "data_std = np.std(data, axis=1)\n",
    "data_mean = np.mean(data,axis=1)\n",
    "\n",
    "validation_std = np.std(X_validation, axis=1)\n",
    "validation_mean = np.mean(X_validation,axis=1)\n",
    "\n",
    "# Than normalize the data according to the normal distribution\n",
    "data = (data - data_mean[:, np.newaxis]) / data_std[:, np.newaxis]\n",
    "\n",
    "X_validation = (X_validation- validation_mean[:, np.newaxis]) /validation_std[:, np.newaxis]"
   ]
  },
  {
   "cell_type": "code",
   "execution_count": 13,
   "id": "d5485711",
   "metadata": {},
   "outputs": [
    {
     "name": "stdout",
     "output_type": "stream",
     "text": [
      "data mean: 2.2611542268199023e-18\n",
      "data std: 0.9999999999999997\n",
      "validation mean: 2.2611542268199023e-18\n",
      "validation std: 0.9999999999999997\n"
     ]
    }
   ],
   "source": [
    "print(\"data mean:\", np.mean(data))\n",
    "print(\"data std:\", np.std(data))\n",
    "\n",
    "print(\"validation mean:\", np.mean(data))\n",
    "print(\"validation std:\", np.std(data))"
   ]
  },
  {
   "cell_type": "markdown",
   "id": "8c219fe3",
   "metadata": {},
   "source": [
    "We have that $$y = \\sigma(Wx + b)$$\n",
    "\n",
    "We know initialize the W and b of the model with each entry have Gaussian random values with zero mean and standard\n",
    "deviation .01 :"
   ]
  },
  {
   "cell_type": "code",
   "execution_count": 14,
   "id": "4cd9eb3e",
   "metadata": {},
   "outputs": [],
   "source": [
    "# Define the shape of W\n",
    "W_shape = (labels_count, data_dimension)\n",
    "b_shape = (labels_count, 1)\n",
    "\n",
    "# Initialize the array with Gaussian random values\n",
    "W = np.random.normal(loc=0.0, scale=0.01, size=W_shape)\n",
    "\n",
    "b = np.random.normal(loc=0.0, scale=0.01, size=b_shape)"
   ]
  },
  {
   "cell_type": "markdown",
   "id": "98a19297",
   "metadata": {},
   "source": [
    "We write the evaluation and cost function:"
   ]
  },
  {
   "cell_type": "code",
   "execution_count": 17,
   "id": "677ab3b1",
   "metadata": {},
   "outputs": [],
   "source": [
    "# returns a (label_count, data_count) matrix\n",
    "def evaluate_classifier(data, W, b):\n",
    "    return functions.softmax(np.dot(W, data) + b)\n",
    "\n",
    "# returns the cost functions that we need to minimize\n",
    "def compute_cost(data, onehot_labels, W, b, lbd):\n",
    "    cost = 0\n",
    "    \n",
    "    # p is (label_count, data_count)\n",
    "    p = evaluate_classifier(data, W, b)\n",
    "    \n",
    "    # for every data in training data set\n",
    "    for d in range(0,len(data[0])):\n",
    "        cost -= np.dot(onehot_labels[:,d].T, np.log(p[:,d]))\n",
    "        \n",
    "    # we devide by the data_size    \n",
    "    cost /= len(data[0])\n",
    "    \n",
    "    # we add the regularization term\n",
    "    cost += lbd * np.sum(W**2)\n",
    "         \n",
    "    return cost"
   ]
  },
  {
   "cell_type": "code",
   "execution_count": 18,
   "id": "042f6d65",
   "metadata": {
    "scrolled": true
   },
   "outputs": [
    {
     "data": {
      "text/plain": [
       "2.3902248034935156"
      ]
     },
     "execution_count": 18,
     "metadata": {},
     "output_type": "execute_result"
    }
   ],
   "source": [
    "compute_cost(data, onehot_labels, W, b, 0)"
   ]
  },
  {
   "cell_type": "markdown",
   "id": "22b64692",
   "metadata": {},
   "source": [
    "We write a function that computes the accuracy of the network:"
   ]
  },
  {
   "cell_type": "code",
   "execution_count": 31,
   "id": "4995fd25",
   "metadata": {},
   "outputs": [],
   "source": [
    "def compute_accuracy(data, labels, W, b):    \n",
    "    # Get the index of the maximum value which is the label for each row\n",
    "    predicted_labels = np.argmax(evaluate_classifier(data, W, b), axis=0)\n",
    "    \n",
    "    return np.sum(labels == predicted_labels) / len(labels)"
   ]
  },
  {
   "cell_type": "markdown",
   "id": "cdc382be",
   "metadata": {},
   "source": [
    "We compute the accuracy for the randomly initialized parameters. We should get an accuracy of 10% since it's random and there is 10 labels:"
   ]
  },
  {
   "cell_type": "code",
   "execution_count": 32,
   "id": "9e32438e",
   "metadata": {},
   "outputs": [
    {
     "data": {
      "text/plain": [
       "0.1108"
      ]
     },
     "execution_count": 32,
     "metadata": {},
     "output_type": "execute_result"
    }
   ],
   "source": [
    "compute_accuracy(data, labels, W, b)"
   ]
  },
  {
   "cell_type": "markdown",
   "id": "dc9cd4cc",
   "metadata": {},
   "source": [
    "We write the function that evaluates for a mini-batch the gradient of the cost function.\n",
    "\n",
    "The mini-batch gradient is defined as follows: \n",
    "\n",
    "$$\\textbf{W}^{t+1} = \\textbf{W}^t - \\eta \\sum_{n \\in B^t} \\nabla l_{cross}(\\textbf{x},\\textbf{y},\\textbf{W},\\textbf{b})$$"
   ]
  },
  {
   "cell_type": "code",
   "execution_count": 34,
   "id": "6e06e297",
   "metadata": {},
   "outputs": [],
   "source": [
    "# mini batch data is (data_dimension, data_size) \n",
    "# onehot_labels is (label_count, data_size)\n",
    "# predicted_labels is (label_count, data_size)\n",
    "# W is (label_count, data_dimension)\n",
    "def compute_gradient(data, onehot_labels, predicted_labels, W, lbd):\n",
    "    data_size = len(data[0])\n",
    "        \n",
    "    # g is (label_count, data_size)\n",
    "    g = -(onehot_labels - predicted_labels)\n",
    "        \n",
    "    # add gradient of l(x,y,w,b) w.r.t. W and b:\n",
    "    Jw = np.dot(g, data.T)/data_size\n",
    "    Jb = np.mean(g, axis = 1)\n",
    "    \n",
    "    # add regularization term\n",
    "    Jw += 2*lbd*W\n",
    "        \n",
    "    return Jw, Jb[:, np.newaxis]"
   ]
  },
  {
   "cell_type": "markdown",
   "id": "1cc93fa3",
   "metadata": {},
   "source": [
    "We know check the analytic gradient computations against numerical estimations of the gradients:"
   ]
  },
  {
   "cell_type": "code",
   "execution_count": 35,
   "id": "4a2dd6d6",
   "metadata": {},
   "outputs": [],
   "source": [
    "# import the compute_grads_num_slow from functions since it uses functions from the notebook\n",
    "def compute_grads_num_slow(X, Y, P, W, b, lamda, h):\n",
    "    \"\"\" Converted from matlab code \"\"\"\n",
    "    no = W.shape[0]\n",
    "    # d = X.shape[0]\n",
    " \n",
    "    grad_w = np.zeros(W.shape)\n",
    "    grad_b = np.zeros((no, 1))\n",
    " \n",
    "    for i in range(len(b)):\n",
    "        b_try = np.array(b)\n",
    "        b_try[i] -= h\n",
    "        c1 = compute_cost(X, Y, W, b_try, lamda)\n",
    " \n",
    "        b_try = np.array(b)\n",
    "        b_try[i] += h\n",
    "        c2 = compute_cost(X, Y, W, b_try, lamda)\n",
    " \n",
    "        grad_b[i] = (c2 - c1) / (2 * h)\n",
    " \n",
    "    for i in range(W.shape[0]):\n",
    "        for j in range(W.shape[1]):\n",
    "            w_try = np.array(W)\n",
    "            w_try[i, j] -= h\n",
    "            c1 = compute_cost(X, Y, w_try, b, lamda)\n",
    " \n",
    "            w_try = np.array(W)\n",
    "            w_try[i, j] += h\n",
    "            c2 = compute_cost(X, Y, w_try, b, lamda)\n",
    " \n",
    "            grad_w[i, j] = (c2 - c1) / (2 * h)\n",
    " \n",
    "    return [grad_w, grad_b]"
   ]
  },
  {
   "cell_type": "code",
   "execution_count": 36,
   "id": "aa2dc81c",
   "metadata": {},
   "outputs": [],
   "source": [
    "predicted_labels = evaluate_classifier(data[0:20,0:1], W[:,0:20], b)\n",
    "\n",
    "grad_W, grad_b = compute_grads_num_slow(X=data[0:20,0:2],\n",
    "                                        Y=onehot_labels[:,0:2], \n",
    "                                        P=predicted_labels[:,0:2], \n",
    "                                        W=W[:,0:20], \n",
    "                                        b=b, \n",
    "                                        lamda=0, \n",
    "                                        h=1*-6)\n",
    "grad_W_a, grad_b_a = compute_gradient(data[0:20,0:1], onehot_labels[:,0:1], predicted_labels[:,0:1], W[:,0:20], lbd=0)\n",
    "\n",
    "def compute_relative_grad_error(grad_n, grad_a, eps):\n",
    "    return (abs(grad_n - grad_a) > 1e-6).sum() * 100 /(len(grad_n)*len(grad_n[0]))"
   ]
  },
  {
   "cell_type": "markdown",
   "id": "9df71d3d",
   "metadata": {},
   "source": [
    "Now that we made sure the gradient descent it correct, we implement the mini batch gardient algorithm:"
   ]
  },
  {
   "cell_type": "code",
   "execution_count": 37,
   "id": "a0224f7e",
   "metadata": {},
   "outputs": [],
   "source": [
    "# gd_params = (s_batch, eta, n_epochs)\n",
    "def mini_batch_gd(data, onehot_labels, gd_params, W, b, lbd, X_validation, Y_validation):\n",
    "    # define the parameters\n",
    "    s_batch = gd_params[0]\n",
    "    eta = gd_params[1]\n",
    "    n_epochs = gd_params[2]\n",
    "    \n",
    "    # initialize empty lists to store the loss and cost function values\n",
    "    cost = []\n",
    "    cost_vald = []\n",
    "\n",
    "    W_star = W\n",
    "    b_star = b\n",
    "    \n",
    "    # construct the mini batches\n",
    "    mini_batches = construct_mini_batches(s_batch, data, onehot_labels)\n",
    "    \n",
    "    validation_mini_batches = construct_mini_batches(s_batch, X_validation, Y_validation)\n",
    "     \n",
    "    for iter in range(n_epochs):\n",
    "        for (mini_batch_X, mini_batch_y) , (mini_batch_x_vald, mini_batch_y_vald) in zip(mini_batches, validation_mini_batches):\n",
    "            # compute the predictions for the mini_batch\n",
    "            predicted_labels = evaluate_classifier(mini_batch_X, W_star, b_star)\n",
    "\n",
    "            # compute the new gradients\n",
    "            grad_w, grad_b = compute_gradient(mini_batch_X, mini_batch_y, predicted_labels, W_star, lbd)        \n",
    "            W_star = W_star - eta * grad_w\n",
    "            b_star = b_star - eta * grad_b\n",
    "\n",
    "        # compute the loss and cost function values\n",
    "        cost.append(compute_cost(mini_batch_X, mini_batch_y, W_star, b_star,lbd))\n",
    "        cost_vald.append(compute_cost(mini_batch_x_vald, mini_batch_y_vald, W_star, b_star, lbd))\n",
    "        \n",
    "    plot_loss_cost(cost, cost_vald)\n",
    "    return W_star, b_star\n",
    "    \n",
    "# return a tuple of arrays (x_batch, y_batch)\n",
    "def construct_mini_batches(s_batch, data, onehot_labels):\n",
    "    nb_batch = int(np.ceil(len(data[0])/s_batch))\n",
    "    \n",
    "    mini_batches = []\n",
    "    \n",
    "    for j in range(nb_batch):\n",
    "        # set the start and end index of the batch\n",
    "        j_start = j*s_batch\n",
    "        j_end = (j+1)*s_batch        \n",
    "        x_batch = data[:,j_start:j_end]\n",
    "        y_batch = onehot_labels[:,j_start:j_end]\n",
    "        \n",
    "        mini_batches.append((x_batch, y_batch))\n",
    "        \n",
    "    return mini_batches\n",
    "\n",
    "# plot the cost function values after each epoch\n",
    "def plot_loss_cost(cost, cost_vald):\n",
    "    plt.plot(cost, label='Train Cost')\n",
    "    plt.plot(cost_vald, label='Validation Cost')\n",
    "    plt.xlabel('n_epochs')\n",
    "    plt.ylabel('cost')\n",
    "    plt.legend()\n",
    "    plt.show()"
   ]
  },
  {
   "cell_type": "markdown",
   "id": "b46efebb",
   "metadata": {},
   "source": [
    "We run the code:"
   ]
  },
  {
   "cell_type": "code",
   "execution_count": 38,
   "id": "942a2717",
   "metadata": {},
   "outputs": [
    {
     "data": {
      "image/png": "[encoded data removed]",
      "text/plain": [
       "<Figure size 432x288 with 1 Axes>"
      ]
     },
     "metadata": {
      "needs_background": "light"
     },
     "output_type": "display_data"
    },
    {
     "data": {
      "image/png": "[encoded data removed]",
      "text/plain": [
       "<Figure size 432x288 with 10 Axes>"
      ]
     },
     "metadata": {
      "needs_background": "light"
     },
     "output_type": "display_data"
    },
    {
     "data": {
      "text/plain": [
       "0.3865"
      ]
     },
     "execution_count": 38,
     "metadata": {},
     "output_type": "execute_result"
    }
   ],
   "source": [
    "gd_params = (100, 0.001, 40)\n",
    "lbd = 0.1\n",
    "W_star, b_star = mini_batch_gd(data, onehot_labels, gd_params, W, b, lbd, X_validation, Y_validation)\n",
    "\n",
    "functions.montage(W_star)\n",
    "compute_accuracy(X_validation, labels_validation, W_star, b_star)"
   ]
  },
  {
   "cell_type": "code",
   "execution_count": null,
   "id": "a80bfaab",
   "metadata": {},
   "outputs": [],
   "source": []
  }
 ],
 "metadata": {
  "kernelspec": {
   "display_name": "Python 3 (ipykernel)",
   "language": "python",
   "name": "python3"
  },
  "language_info": {
   "codemirror_mode": {
    "name": "ipython",
    "version": 3
   },
   "file_extension": ".py",
   "mimetype": "text/x-python",
   "name": "python",
   "nbconvert_exporter": "python",
   "pygments_lexer": "ipython3",
   "version": "3.8.12"
  }
 },
 "nbformat": 4,
 "nbformat_minor": 5
}
